{
 "cells": [
  {
   "cell_type": "code",
   "execution_count": 1,
   "id": "f87ea40d",
   "metadata": {},
   "outputs": [],
   "source": [
    "import numpy as np"
   ]
  },
  {
   "cell_type": "code",
   "execution_count": 2,
   "id": "31e756e6",
   "metadata": {},
   "outputs": [],
   "source": [
    "def printDFS(v, graph, sv, visited):\n",
    "    print(sv, \" \")\n",
    "    visited[sv]=1\n",
    "    for i in range(0, v+1):\n",
    "        if i==sv:\n",
    "            continue\n",
    "        if graph[sv][i]==1:\n",
    "            if visited[i]==1:\n",
    "                continue;\n",
    "            printDFS(v, graph, i, visited)"
   ]
  },
  {
   "cell_type": "code",
   "execution_count": 3,
   "id": "08f4fc93",
   "metadata": {},
   "outputs": [
    {
     "name": "stdout",
     "output_type": "stream",
     "text": [
      "no of vertices : 5 \n",
      "no of edges : 4\n",
      "enter first : 1\n",
      "enter second : 3\n",
      "enter first : 1\n",
      "enter second : 4\n",
      "enter first : 3\n",
      "enter second : 2\n",
      "enter first : 3\n",
      "enter second : 5\n",
      "0  \n",
      "1  \n",
      "3  \n",
      "2  \n",
      "5  \n",
      "4  \n"
     ]
    }
   ],
   "source": [
    "def takeinput(e, graph):\n",
    "    for i in range(0, e):\n",
    "        f = int(input(\"enter first : \"))\n",
    "        s = int(input(\"enter second : \"))\n",
    "        graph[f,s]=1\n",
    "        graph[s,f]=1\n",
    "\n",
    "v = int(input(\"no of vertices : \"))\n",
    "e = int(input(\"no of edges : \"))\n",
    "#Using a Python dictionary to act as an adjacency list\n",
    "graph = np.zeros((v+1,v+1))\n",
    "visited = np.zeros(v+1)\n",
    "takeinput(e, graph)\n",
    "for i in range(0, v+1):\n",
    "    if visited[i]!=1:\n",
    "        printDFS(v, graph, i, visited)"
   ]
  },
  {
   "cell_type": "markdown",
   "id": "6285aeb8",
   "metadata": {},
   "source": [
    "#BFS"
   ]
  },
  {
   "cell_type": "code",
   "execution_count": 4,
   "id": "5b8b6f93",
   "metadata": {},
   "outputs": [],
   "source": [
    "def printbFS(v, graph2, sv, visited2):\n",
    "    queue =[]\n",
    "    queue.append(sv)\n",
    "    visited[sv]=1\n",
    "    while queue.size()!=0:\n",
    "        print(queue[0])\n",
    "        front = queue[0]\n",
    "        queue.pop(0)\n",
    "        for i in range(0, v+1):\n",
    "            if visited[i]==1:\n",
    "                continue\n",
    "            if graph2[front][i]==1:\n",
    "                queue.append(i)\n",
    "                visited[i]=1"
   ]
  },
  {
   "cell_type": "code",
   "execution_count": 5,
   "id": "75004ec5",
   "metadata": {},
   "outputs": [
    {
     "name": "stdout",
     "output_type": "stream",
     "text": [
      "enter first : 1\n",
      "enter second : \n"
     ]
    },
    {
     "ename": "ValueError",
     "evalue": "invalid literal for int() with base 10: ''",
     "output_type": "error",
     "traceback": [
      "\u001b[1;31m---------------------------------------------------------------------------\u001b[0m",
      "\u001b[1;31mValueError\u001b[0m                                Traceback (most recent call last)",
      "Input \u001b[1;32mIn [5]\u001b[0m, in \u001b[0;36m<cell line: 3>\u001b[1;34m()\u001b[0m\n\u001b[0;32m      1\u001b[0m graph2 \u001b[38;5;241m=\u001b[39m np\u001b[38;5;241m.\u001b[39mzeros((v\u001b[38;5;241m+\u001b[39m\u001b[38;5;241m1\u001b[39m,v\u001b[38;5;241m+\u001b[39m\u001b[38;5;241m1\u001b[39m))\n\u001b[0;32m      2\u001b[0m visited2 \u001b[38;5;241m=\u001b[39m np\u001b[38;5;241m.\u001b[39mzeros(v\u001b[38;5;241m+\u001b[39m\u001b[38;5;241m1\u001b[39m)\n\u001b[1;32m----> 3\u001b[0m \u001b[43mtakeinput\u001b[49m\u001b[43m(\u001b[49m\u001b[43me\u001b[49m\u001b[43m,\u001b[49m\u001b[43m \u001b[49m\u001b[43mgraph2\u001b[49m\u001b[43m)\u001b[49m\n\u001b[0;32m      4\u001b[0m \u001b[38;5;28;01mfor\u001b[39;00m i \u001b[38;5;129;01min\u001b[39;00m \u001b[38;5;28mrange\u001b[39m(\u001b[38;5;241m0\u001b[39m, v\u001b[38;5;241m+\u001b[39m\u001b[38;5;241m1\u001b[39m):\n\u001b[0;32m      5\u001b[0m     \u001b[38;5;28;01mif\u001b[39;00m visited2[i]\u001b[38;5;241m!=\u001b[39m\u001b[38;5;241m1\u001b[39m:\n",
      "Input \u001b[1;32mIn [3]\u001b[0m, in \u001b[0;36mtakeinput\u001b[1;34m(e, graph)\u001b[0m\n\u001b[0;32m      2\u001b[0m \u001b[38;5;28;01mfor\u001b[39;00m i \u001b[38;5;129;01min\u001b[39;00m \u001b[38;5;28mrange\u001b[39m(\u001b[38;5;241m0\u001b[39m, e):\n\u001b[0;32m      3\u001b[0m     f \u001b[38;5;241m=\u001b[39m \u001b[38;5;28mint\u001b[39m(\u001b[38;5;28minput\u001b[39m(\u001b[38;5;124m\"\u001b[39m\u001b[38;5;124menter first : \u001b[39m\u001b[38;5;124m\"\u001b[39m))\n\u001b[1;32m----> 4\u001b[0m     s \u001b[38;5;241m=\u001b[39m \u001b[38;5;28;43mint\u001b[39;49m\u001b[43m(\u001b[49m\u001b[38;5;28;43minput\u001b[39;49m\u001b[43m(\u001b[49m\u001b[38;5;124;43m\"\u001b[39;49m\u001b[38;5;124;43menter second : \u001b[39;49m\u001b[38;5;124;43m\"\u001b[39;49m\u001b[43m)\u001b[49m\u001b[43m)\u001b[49m\n\u001b[0;32m      5\u001b[0m     graph[f,s]\u001b[38;5;241m=\u001b[39m\u001b[38;5;241m1\u001b[39m\n\u001b[0;32m      6\u001b[0m     graph[s,f]\u001b[38;5;241m=\u001b[39m\u001b[38;5;241m1\u001b[39m\n",
      "\u001b[1;31mValueError\u001b[0m: invalid literal for int() with base 10: ''"
     ]
    }
   ],
   "source": [
    "graph2 = np.zeros((v+1,v+1))\n",
    "visited2 = np.zeros(v+1)\n",
    "takeinput(e, graph2)\n",
    "for i in range(0, v+1):\n",
    "    if visited2[i]!=1:\n",
    "        printbFS(v, graph2, i, visited2)"
   ]
  },
  {
   "cell_type": "code",
   "execution_count": null,
   "id": "6d91f8e7",
   "metadata": {},
   "outputs": [],
   "source": []
  }
 ],
 "metadata": {
  "kernelspec": {
   "display_name": "Python 3 (ipykernel)",
   "language": "python",
   "name": "python3"
  },
  "language_info": {
   "codemirror_mode": {
    "name": "ipython",
    "version": 3
   },
   "file_extension": ".py",
   "mimetype": "text/x-python",
   "name": "python",
   "nbconvert_exporter": "python",
   "pygments_lexer": "ipython3",
   "version": "3.9.12"
  }
 },
 "nbformat": 4,
 "nbformat_minor": 5
}
